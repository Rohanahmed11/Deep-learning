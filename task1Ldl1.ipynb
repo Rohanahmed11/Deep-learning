{
 "cells": [
  {
   "cell_type": "code",
   "execution_count": 7,
   "id": "8b693a75-44fb-4207-8685-93c6fc01e168",
   "metadata": {},
   "outputs": [
    {
     "name": "stdout",
     "output_type": "stream",
     "text": [
      "Tensor:\n",
      " [[9.526247  3.3492863 0.842365 ]\n",
      " [8.956013  2.418816  2.3804045]\n",
      " [8.859062  7.622187  4.2118635]]\n",
      "\n",
      "Sum of tensor: 48.166245\n",
      "Mean of tensor: 5.3518047\n",
      "Max of tensor: 9.526247\n",
      "\n",
      "3D Tensor:\n",
      " [[[0.17438173 6.4149942  8.2500305  0.17086625 8.57559   ]\n",
      "  [6.9421816  8.50223    3.1829154  6.2467537  1.8281031 ]\n",
      "  [9.527407   7.3042965  2.2102714  0.01465082 3.259368  ]\n",
      "  [5.7097874  1.6915178  2.2120643  1.2064707  9.584976  ]]\n",
      "\n",
      " [[4.912548   1.045618   7.2023163  2.1296585  2.9449964 ]\n",
      "  [8.707825   6.8506026  1.1906874  0.82010746 8.680489  ]\n",
      "  [0.61639786 4.502933   8.460226   2.7079391  0.49345732]\n",
      "  [9.080494   2.1694815  5.1500225  1.5047002  4.7375917 ]]\n",
      "\n",
      " [[1.5673125  8.258949   1.95966    7.3242006  3.7625313 ]\n",
      "  [5.9334373  1.5520597  0.6793773  3.2891786  5.6391134 ]\n",
      "  [8.796307   9.1511345  9.847906   2.1240568  6.61263   ]\n",
      "  [1.27756    8.986479   3.4509945  4.7113347  8.82988   ]]]\n",
      "\n",
      "Specific element at [1,2,3]: 2.7079391\n",
      "\n",
      "2D Slice (First matrix at index 0):\n",
      " [[0.17438173 6.4149942  8.2500305  0.17086625 8.57559   ]\n",
      " [6.9421816  8.50223    3.1829154  6.2467537  1.8281031 ]\n",
      " [9.527407   7.3042965  2.2102714  0.01465082 3.259368  ]\n",
      " [5.7097874  1.6915178  2.2120643  1.2064707  9.584976  ]]\n",
      "\n",
      "1D Slice (First row of the first matrix):\n",
      " [0.17438173 6.4149942  8.2500305  0.17086625 8.57559   ]\n"
     ]
    }
   ],
   "source": [
    "import tensorflow as tf\n",
    "\n",
    "Create a Tensor with random float values\n",
    "tensor = tf.random.uniform(shape=(3, 3), minval=0, maxval=10, dtype=tf.float32)\n",
    "print(\"Tensor:\\n\", tensor.numpy())\n",
    "\n",
    "# Compute sum, mean, and max\n",
    "sum_tensor = tf.reduce_sum(tensor)\n",
    "mean_tensor = tf.reduce_mean(tensor)\n",
    "max_tensor = tf.reduce_max(tensor)\n",
    "\n",
    "print(\"\\nSum of tensor:\", sum_tensor.numpy())\n",
    "print(\"Mean of tensor:\", mean_tensor.numpy())\n",
    "print(\"Max of tensor:\", max_tensor.numpy())\n",
    "\n",
    "Create a 3D Tensor\n",
    "tensor_3d = tf.random.uniform(shape=(3, 4, 5), minval=0, maxval=10, dtype=tf.float32)\n",
    "print(\"\\n3D Tensor:\\n\", tensor_3d.numpy())\n",
    "\n",
    "# Access a specific element (Example: element at index [1,2,3])\n",
    "specific_element = tensor_3d[1, 2, 3]\n",
    "print(\"\\nSpecific element at [1,2,3]:\", specific_element.numpy())\n",
    "\n",
    "# Access a 2D slice (Example: First matrix at index 0)\n",
    "slice_2d = tensor_3d[0]\n",
    "print(\"\\n2D Slice (First matrix at index 0):\\n\", slice_2d.numpy())\n",
    "\n",
    "# Access a 1D slice (Example: First row of the first matrix)\n",
    "slice_1d = tensor_3d[0, 0]\n",
    "print(\"\\n1D Slice (First row of the first matrix):\\n\", slice_1d.numpy())\n"
   ]
  },
  {
   "cell_type": "code",
   "execution_count": null,
   "id": "2a4e730a-ed43-40d6-8ec6-cac8642bf641",
   "metadata": {},
   "outputs": [],
   "source": []
  }
 ],
 "metadata": {
  "kernelspec": {
   "display_name": "Python 3 (ipykernel)",
   "language": "python",
   "name": "python3"
  },
  "language_info": {
   "codemirror_mode": {
    "name": "ipython",
    "version": 3
   },
   "file_extension": ".py",
   "mimetype": "text/x-python",
   "name": "python",
   "nbconvert_exporter": "python",
   "pygments_lexer": "ipython3",
   "version": "3.12.7"
  }
 },
 "nbformat": 4,
 "nbformat_minor": 5
}
