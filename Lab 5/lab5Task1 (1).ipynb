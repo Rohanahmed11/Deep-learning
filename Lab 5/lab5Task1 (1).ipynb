{
 "cells": [
  {
   "cell_type": "code",
   "execution_count": 1,
   "id": "1295b950-3d48-4ca1-bcf1-ee5d6aee0214",
   "metadata": {},
   "outputs": [
    {
     "name": "stdout",
     "output_type": "stream",
     "text": [
      "\n",
      "Training model with hidden layers: [3, 2]\n"
     ]
    },
    {
     "name": "stderr",
     "output_type": "stream",
     "text": [
      "D:\\New folder\\Lib\\site-packages\\keras\\src\\layers\\core\\dense.py:87: UserWarning: Do not pass an `input_shape`/`input_dim` argument to a layer. When using Sequential models, prefer using an `Input(shape)` object as the first layer in the model instead.\n",
      "  super().__init__(activity_regularizer=activity_regularizer, **kwargs)\n"
     ]
    },
    {
     "name": "stdout",
     "output_type": "stream",
     "text": [
      "Training Accuracy: 0.8263\n",
      "Testing Accuracy:  0.7850\n",
      "\u001b[1m1/1\u001b[0m \u001b[32m━━━━━━━━━━━━━━━━━━━━\u001b[0m\u001b[37m\u001b[0m \u001b[1m0s\u001b[0m 39ms/step\n",
      "Sample Predictions: [0.66 0.52 0.94 0.12 0.69]\n",
      "\n",
      "Training model with hidden layers: [6, 4]\n",
      "Training Accuracy: 0.9075\n",
      "Testing Accuracy:  0.8900\n",
      "\u001b[1m1/1\u001b[0m \u001b[32m━━━━━━━━━━━━━━━━━━━━\u001b[0m\u001b[37m\u001b[0m \u001b[1m0s\u001b[0m 42ms/step\n",
      "Sample Predictions: [0.98 0.94 0.5  0.09 0.79]\n",
      "\n",
      "Training model with hidden layers: [2, 1]\n",
      "Training Accuracy: 0.7013\n",
      "Testing Accuracy:  0.6750\n",
      "\u001b[1m1/1\u001b[0m \u001b[32m━━━━━━━━━━━━━━━━━━━━\u001b[0m\u001b[37m\u001b[0m \u001b[1m0s\u001b[0m 40ms/step\n",
      "Sample Predictions: [0.35 0.35 0.62 0.41 0.62]\n"
     ]
    },
    {
     "data": {
      "image/png": "[encoded data removed]",
      "text/plain": [
       "<Figure size 800x500 with 1 Axes>"
      ]
     },
     "metadata": {},
     "output_type": "display_data"
    }
   ],
   "source": [
    "import numpy as np\n",
    "import matplotlib.pyplot as plt\n",
    "from sklearn.datasets import make_classification\n",
    "from sklearn.model_selection import train_test_split\n",
    "from sklearn.preprocessing import StandardScaler\n",
    "from tensorflow.keras.models import Sequential\n",
    "from tensorflow.keras.layers import Dense\n",
    "from tensorflow.keras.optimizers import Adam\n",
    "\n",
    "# Generate synthetic binary classification data\n",
    "X, y = make_classification(n_samples=1000, n_features=10, n_classes=2, n_informative=8, random_state=42)\n",
    "X_train, X_test, y_train, y_test = train_test_split(X, y, test_size=0.2, random_state=42)\n",
    "\n",
    "# Normalize features\n",
    "scaler = StandardScaler()\n",
    "X_train = scaler.fit_transform(X_train)\n",
    "X_test = scaler.transform(X_test)\n",
    "\n",
    "# Function to create model with variable hidden layers\n",
    "def create_model(hidden_layers, input_dim=10):\n",
    "    model = Sequential()\n",
    "    model.add(Dense(hidden_layers[0], input_dim=input_dim, activation='relu'))\n",
    "    model.add(Dense(hidden_layers[1], activation='relu'))\n",
    "    model.add(Dense(1, activation='sigmoid'))  # Output layer for binary classification\n",
    "    model.compile(optimizer=Adam(), loss='binary_crossentropy', metrics=['accuracy'])\n",
    "    return model\n",
    "\n",
    "# Configurations to test\n",
    "configs = [[3, 2], [6, 4], [2, 1]]\n",
    "results = {}\n",
    "\n",
    "# Training and evaluation loop\n",
    "for config in configs:\n",
    "    print(f\"\\nTraining model with hidden layers: {config}\")\n",
    "    model = create_model(hidden_layers=config)\n",
    "    history = model.fit(X_train, y_train, epochs=50, batch_size=16, verbose=0)\n",
    "    \n",
    "    train_acc = model.evaluate(X_train, y_train, verbose=0)[1]\n",
    "    test_acc = model.evaluate(X_test, y_test, verbose=0)[1]\n",
    "    \n",
    "    print(f\"Training Accuracy: {train_acc:.4f}\")\n",
    "    print(f\"Testing Accuracy:  {test_acc:.4f}\")\n",
    "    \n",
    "    predictions = model.predict(X_test[:5])\n",
    "    print(\"Sample Predictions:\", np.round(predictions.flatten(), 2))\n",
    "\n",
    "    # Save results for later analysis\n",
    "    results[str(config)] = {\n",
    "        'train_acc': train_acc,\n",
    "        'test_acc': test_acc,\n",
    "        'predictions': predictions\n",
    "    }\n",
    "\n",
    "# Optional: plot training vs testing accuracy for comparison\n",
    "labels = list(results.keys())\n",
    "train_accuracies = [results[key]['train_acc'] for key in labels]\n",
    "test_accuracies = [results[key]['test_acc'] for key in labels]\n",
    "\n",
    "x = np.arange(len(labels))\n",
    "width = 0.35\n",
    "\n",
    "plt.figure(figsize=(8, 5))\n",
    "plt.bar(x - width/2, train_accuracies, width, label='Train Acc')\n",
    "plt.bar(x + width/2, test_accuracies, width, label='Test Acc')\n",
    "plt.ylabel('Accuracy')\n",
    "plt.title('Model Performance by Hidden Layer Size')\n",
    "plt.xticks(x, labels)\n",
    "plt.legend()\n",
    "plt.tight_layout()\n",
    "plt.show()\n"
   ]
  },
  {
   "cell_type": "code",
   "execution_count": null,
   "id": "f8e2a864-8685-4662-b804-e37cfe31635e",
   "metadata": {},
   "outputs": [],
   "source": []
  }
 ],
 "metadata": {
  "kernelspec": {
   "display_name": "Python 3 (ipykernel)",
   "language": "python",
   "name": "python3"
  },
  "language_info": {
   "codemirror_mode": {
    "name": "ipython",
    "version": 3
   },
   "file_extension": ".py",
   "mimetype": "text/x-python",
   "name": "python",
   "nbconvert_exporter": "python",
   "pygments_lexer": "ipython3",
   "version": "3.12.7"
  }
 },
 "nbformat": 4,
 "nbformat_minor": 5
}
