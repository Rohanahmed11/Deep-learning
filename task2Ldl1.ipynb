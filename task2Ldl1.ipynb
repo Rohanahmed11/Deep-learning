{
 "cells": [
  {
   "cell_type": "code",
   "execution_count": 1,
   "id": "ab69732c-849c-40f1-a3c7-2413ec51b22b",
   "metadata": {},
   "outputs": [
    {
     "name": "stdout",
     "output_type": "stream",
     "text": [
      "Addition:\n",
      " [15. 30. 45.]\n",
      "Subtraction:\n",
      " [ 5. 10. 15.]\n",
      "Multiplication:\n",
      " [ 50. 200. 450.]\n",
      "Division:\n",
      " [2. 2. 2.]\n"
     ]
    }
   ],
   "source": [
    "import tensorflow as tf\n",
    "\n",
    "# Define the tensor_operations function\n",
    "def tensor_operations(tensor1, tensor2):\n",
    "    # Perform arithmetic operations\n",
    "    addition = tensor1 + tensor2\n",
    "    subtraction = tensor1 - tensor2\n",
    "    multiplication = tensor1 * tensor2\n",
    "    division = tensor1 / tensor2\n",
    "    \n",
    "    # Store results in a dictionary\n",
    "    result = {\n",
    "        \"addition\": addition,\n",
    "        \"subtraction\": subtraction,\n",
    "        \"multiplication\": multiplication,\n",
    "        \"division\": division\n",
    "    }\n",
    "    \n",
    "    return result\n",
    "\n",
    "# Test the function with the provided tensors\n",
    "tensor1 = tf.constant([10, 20, 30], dtype=tf.float32)\n",
    "tensor2 = tf.constant([5, 10, 15], dtype=tf.float32)\n",
    "\n",
    "# Get the result of the operations\n",
    "results = tensor_operations(tensor1, tensor2)\n",
    "\n",
    "# Print the results\n",
    "for operation, result in results.items():\n",
    "    print(f\"{operation.capitalize()}:\\n\", result.numpy())"
   ]
  },
  {
   "cell_type": "code",
   "execution_count": null,
   "id": "d443d84e-ef9d-414a-9338-11096ad22588",
   "metadata": {},
   "outputs": [],
   "source": []
  }
 ],
 "metadata": {
  "kernelspec": {
   "display_name": "Python 3 (ipykernel)",
   "language": "python",
   "name": "python3"
  },
  "language_info": {
   "codemirror_mode": {
    "name": "ipython",
    "version": 3
   },
   "file_extension": ".py",
   "mimetype": "text/x-python",
   "name": "python",
   "nbconvert_exporter": "python",
   "pygments_lexer": "ipython3",
   "version": "3.12.7"
  }
 },
 "nbformat": 4,
 "nbformat_minor": 5
}
