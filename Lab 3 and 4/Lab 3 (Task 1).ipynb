{
 "cells": [
  {
   "cell_type": "code",
   "execution_count": 1,
   "id": "dcceeb10-909f-408a-8fb4-6969e725715c",
   "metadata": {},
   "outputs": [
    {
     "name": "stdout",
     "output_type": "stream",
     "text": [
      "Predicted salary for 3 years of experience: $49587.88\n",
      "Predicted salary for 10 years of experience: $85181.82\n"
     ]
    }
   ],
   "source": [
    "# Import necessary libraries\n",
    "import numpy as np\n",
    "from sklearn.linear_model import LinearRegression\n",
    "\n",
    "# Sample training data (YearsExperience vs Salary)\n",
    "X = np.array([[1], [2], [3], [4], [5], [6], [7], [8], [9], [10]])  # Years of experience\n",
    "y = np.array([40000, 43000, 50000, 55000, 60000, 65000, 70000, 75000, 80000, 85000])  # Salaries\n",
    "\n",
    "# Create and train the model\n",
    "model = LinearRegression()\n",
    "model.fit(X, y)\n",
    "\n",
    "# Predict salaries for 3 and 10 years of experience\n",
    "experience_years = np.array([[3], [10]])\n",
    "predicted_salaries = model.predict(experience_years)\n",
    "\n",
    "# Output the predicted salaries\n",
    "for exp, salary in zip(experience_years, predicted_salaries):\n",
    "    print(f\"Predicted salary for {exp[0]} years of experience: ${salary:.2f}\")\n"
   ]
  },
  {
   "cell_type": "code",
   "execution_count": null,
   "id": "c17de775-42d6-4b45-8a07-8278870988c4",
   "metadata": {},
   "outputs": [],
   "source": [
    "                            "
   ]
  }
 ],
 "metadata": {
  "kernelspec": {
   "display_name": "Python [conda env:base] *",
   "language": "python",
   "name": "conda-base-py"
  },
  "language_info": {
   "codemirror_mode": {
    "name": "ipython",
    "version": 3
   },
   "file_extension": ".py",
   "mimetype": "text/x-python",
   "name": "python",
   "nbconvert_exporter": "python",
   "pygments_lexer": "ipython3",
   "version": "3.12.7"
  }
 },
 "nbformat": 4,
 "nbformat_minor": 5
}
