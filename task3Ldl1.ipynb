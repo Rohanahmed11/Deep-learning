{
 "cells": [
  {
   "cell_type": "code",
   "execution_count": 2,
   "id": "64846ee9-4280-4da7-8631-f1642e3b5637",
   "metadata": {},
   "outputs": [
    {
     "name": "stdout",
     "output_type": "stream",
     "text": [
      "Task 1: Sort the array\n",
      "Original array: [0.83482472 0.91022696 0.96234269 0.66690961 0.69160405]\n",
      "Sorted in ascending order: [0.66690961 0.69160405 0.83482472 0.91022696 0.96234269]\n",
      "Sorted in descending order: [0.96234269 0.91022696 0.83482472 0.69160405 0.66690961]\n",
      "\n",
      "Task 2: Matrix Transpose and Inverse\n",
      "Original matrix:\n",
      " [[1 2]\n",
      " [3 4]]\n",
      "Transpose of the matrix:\n",
      " [[1 3]\n",
      " [2 4]]\n",
      "Inverse of the matrix:\n",
      " [[-2.   1. ]\n",
      " [ 1.5 -0.5]]\n",
      "\n",
      "Task 3: 2D Array Calculations\n",
      "Original 2D array:\n",
      " [[0.21284154 0.87604471 0.17653471]\n",
      " [0.64113773 0.5287063  0.68109013]\n",
      " [0.78375538 0.61420411 0.92119739]\n",
      " [0.83229966 0.44263361 0.47999276]]\n",
      "Sum of each row: [1.26542096 1.85093415 2.31915688 1.75492602]\n",
      "Mean of each column: [0.61750858 0.61539718 0.56470375]\n",
      "Standard deviation of the entire array: 0.2325623412195338\n"
     ]
    }
   ],
   "source": [
    "import numpy as np\n",
    "\n",
    "# Create a NumPy array with random float values and sort it in both ascending and descending order\n",
    "array = np.random.rand(5)  # 1D array with 5 random float values\n",
    "\n",
    "# Sort the array in ascending order\n",
    "ascending = np.sort(array)\n",
    "\n",
    "# Sort the array in descending order\n",
    "descending = ascending[::-1]  # Reverse the sorted array to get descending order\n",
    "\n",
    "print(\"Task 1: Sort the array\")\n",
    "print(\"Original array:\", array)\n",
    "print(\"Sorted in ascending order:\", ascending)\n",
    "print(\"Sorted in descending order:\", descending)\n",
    "\n",
    "# Create a 2x2 NumPy matrix. Calculate its transpose and inverse.\n",
    "matrix = np.array([[1, 2], [3, 4]])\n",
    "\n",
    "# Calculate its transpose\n",
    "transpose = np.transpose(matrix)\n",
    "\n",
    "# Calculate its inverse\n",
    "inverse = np.linalg.inv(matrix)\n",
    "\n",
    "print(\"\\nTask 2: Matrix Transpose and Inverse\")\n",
    "print(\"Original matrix:\\n\", matrix)\n",
    "print(\"Transpose of the matrix:\\n\", transpose)\n",
    "print(\"Inverse of the matrix:\\n\", inverse)\n",
    "\n",
    "# Create a 2D NumPy array and calculate the sum of each row, the mean of each column, and the standard deviation of the entire array.\n",
    "array_2d = np.random.rand(4, 3)  # 4x3 matrix of random float values\n",
    "\n",
    "# Calculate the sum of each row\n",
    "sum_rows = np.sum(array_2d, axis=1)\n",
    "\n",
    "# Calculate the mean of each column\n",
    "mean_columns = np.mean(array_2d, axis=0)\n",
    "\n",
    "# Calculate the standard deviation of the entire array\n",
    "std_deviation = np.std(array_2d)\n",
    "\n",
    "print(\"\\nTask 3: 2D Array Calculations\")\n",
    "print(\"Original 2D array:\\n\", array_2d)\n",
    "print(\"Sum of each row:\", sum_rows)\n",
    "print(\"Mean of each column:\", mean_columns)\n",
    "print(\"Standard deviation of the entire array:\", std_deviation)"
   ]
  },
  {
   "cell_type": "code",
   "execution_count": null,
   "id": "b5d29d23-a58c-43bb-808d-e7928f79c866",
   "metadata": {},
   "outputs": [],
   "source": []
  }
 ],
 "metadata": {
  "kernelspec": {
   "display_name": "Python 3 (ipykernel)",
   "language": "python",
   "name": "python3"
  },
  "language_info": {
   "codemirror_mode": {
    "name": "ipython",
    "version": 3
   },
   "file_extension": ".py",
   "mimetype": "text/x-python",
   "name": "python",
   "nbconvert_exporter": "python",
   "pygments_lexer": "ipython3",
   "version": "3.12.7"
  }
 },
 "nbformat": 4,
 "nbformat_minor": 5
}
